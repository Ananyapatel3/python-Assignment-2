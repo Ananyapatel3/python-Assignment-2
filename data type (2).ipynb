{
 "cells": [
  {
   "cell_type": "code",
   "execution_count": 4,
   "id": "c9e8553f-fbda-40fd-af4f-0111b4d4a96b",
   "metadata": {},
   "outputs": [
    {
     "name": "stdout",
     "output_type": "stream",
     "text": [
      "<class 'str'>\n",
      "<class 'list'>\n",
      "<class 'float'>\n",
      "<class 'tuple'>\n"
     ]
    }
   ],
   "source": [
    "# (i) String\n",
    "my_string = \"Hello, World!\"\n",
    "print(type(my_string))\n",
    "\n",
    "# (ii) List\n",
    "my_list = [1, 2, 3, 4, 5]\n",
    "print(type(my_list))\n",
    "\n",
    "# (iii) Float\n",
    "my_float = 3.14\n",
    "print(type(my_float))\n",
    "\n",
    "# (iv) Tuple\n",
    "my_tuple = (10, 20, 30, 40, 50)\n",
    "print(type(my_tuple))\n"
   ]
  },
  {
   "cell_type": "code",
   "execution_count": 9,
   "id": "9a754071-6745-4e00-b2a2-a83cc746b4ef",
   "metadata": {},
   "outputs": [
    {
     "name": "stdout",
     "output_type": "stream",
     "text": [
      "Data type of var1: <class 'str'>\n",
      "Data type of var2: <class 'str'>\n",
      "Data type of var3: <class 'list'>\n",
      "Data type of var4: <class 'float'>\n"
     ]
    }
   ],
   "source": [
    "# Define the variables\n",
    "var1 = ' '\n",
    "var2 = '[ DS , ML , Python]'\n",
    "var3 = ['DS', 'ML', 'Python']\n",
    "var4 = 1.\n",
    "\n",
    "# Print the data types of the variables\n",
    "print(\"Data type of var1:\", type(var1))\n",
    "print(\"Data type of var2:\", type(var2))\n",
    "print(\"Data type of var3:\", type(var3))\n",
    "print(\"Data type of var4:\", type(var4))\n",
    "\n",
    "\n"
   ]
  },
  {
   "cell_type": "code",
   "execution_count": null,
   "id": "ad57bcc7-c4e6-4038-95fb-5b110f82a2c4",
   "metadata": {},
   "outputs": [],
   "source": []
  },
  {
   "cell_type": "code",
   "execution_count": 11,
   "id": "744417e4-c8d3-4998-833c-fc0fafa4c180",
   "metadata": {},
   "outputs": [
    {
     "name": "stdout",
     "output_type": "stream",
     "text": [
      "Result of Division: 3.3333333333333335\n",
      "Result of Modulo: 1\n",
      "Result of Floor Division: 3\n",
      "Result of Exponentiation: 8\n"
     ]
    }
   ],
   "source": [
    "\n",
    "num1 = 10\n",
    "num2 = 3\n",
    "result_division = num1 / num2\n",
    "print(\"Result of Division:\", result_division)  \n",
    "\n",
    "\n",
    "result_modulo = num1 % num2\n",
    "print(\"Result of Modulo:\", result_modulo) \n",
    "\n",
    "result_floor_division = num1 // num2\n",
    "print(\"Result of Floor Division:\", result_floor_division)  \n",
    "\n",
    "num3 = 2\n",
    "num4 = 3\n",
    "result_exponentiation = num3 ** num4\n",
    "print(\"Result of Exponentiation:\", result_exponentiation)  \n"
   ]
  },
  {
   "cell_type": "code",
   "execution_count": null,
   "id": "b478efba-62c0-4b18-b716-c15ce42b3642",
   "metadata": {},
   "outputs": [],
   "source": [
    "\n"
   ]
  },
  {
   "cell_type": "code",
   "execution_count": 12,
   "id": "8a11c20e-e1fa-4714-8c58-a7bc6f94adb6",
   "metadata": {},
   "outputs": [
    {
     "name": "stdout",
     "output_type": "stream",
     "text": [
      "Element: 1 \t\tData Type: <class 'int'>\n",
      "Element: 3.14 \t\tData Type: <class 'float'>\n",
      "Element: Hello \t\tData Type: <class 'str'>\n",
      "Element: True \t\tData Type: <class 'bool'>\n",
      "Element: [1, 2, 3] \t\tData Type: <class 'list'>\n",
      "Element: {'name': 'John', 'age': 30} \t\tData Type: <class 'dict'>\n",
      "Element: None \t\tData Type: <class 'NoneType'>\n",
      "Element: (10, 20) \t\tData Type: <class 'tuple'>\n",
      "Element: False \t\tData Type: <class 'bool'>\n",
      "Element: Python \t\tData Type: <class 'str'>\n"
     ]
    }
   ],
   "source": [
    "# Create a list with multiple types of data\n",
    "my_list = [1, 3.14, \"Hello\", True, [1, 2, 3], {'name': 'John', 'age': 30}, None, (10, 20), False, \"Python\"]\n",
    "\n",
    "# Print each element and its data type using a for loop\n",
    "for element in my_list:\n",
    "    print(\"Element:\", element, \"\\t\\tData Type:\", type(element))\n"
   ]
  },
  {
   "cell_type": "code",
   "execution_count": null,
   "id": "3d24ad07-6cd5-47db-9aa9-2e42c9aa6967",
   "metadata": {},
   "outputs": [],
   "source": []
  },
  {
   "cell_type": "code",
   "execution_count": 13,
   "id": "5c151d49-ff5a-4548-a717-17b372c0db2a",
   "metadata": {},
   "outputs": [
    {
     "name": "stdin",
     "output_type": "stream",
     "text": [
      "Enter number A:  2\n",
      "Enter number B:  3\n"
     ]
    },
    {
     "name": "stdout",
     "output_type": "stream",
     "text": [
      "2 is not purely divisible by 3.\n"
     ]
    }
   ],
   "source": [
    "def count_divisions(a, b):\n",
    "    count = 0\n",
    "    while a >= b and a % b == 0:\n",
    "        a = a // b\n",
    "        count += 1\n",
    "    return count\n",
    "\n",
    "# Input numbers A and B\n",
    "number_A = int(input(\"Enter number A: \"))\n",
    "number_B = int(input(\"Enter number B: \"))\n",
    "\n",
    "# Verify if A is purely divisible by B and count the divisions\n",
    "result = count_divisions(number_A, number_B)\n",
    "\n",
    "if result > 0:\n",
    "    print(f\"{number_A} is purely divisible by {number_B} and can be divided {result} times.\")\n",
    "else:\n",
    "    print(f\"{number_A} is not purely divisible by {number_B}.\")\n"
   ]
  },
  {
   "cell_type": "code",
   "execution_count": 14,
   "id": "27fda393-f54c-4c72-9af8-f7448b9ae7e6",
   "metadata": {},
   "outputs": [
    {
     "name": "stdout",
     "output_type": "stream",
     "text": [
      "5 is not divisible by 3.\n",
      "12 is divisible by 3.\n",
      "9 is divisible by 3.\n",
      "8 is not divisible by 3.\n",
      "27 is divisible by 3.\n",
      "16 is not divisible by 3.\n",
      "21 is divisible by 3.\n",
      "3 is divisible by 3.\n",
      "10 is not divisible by 3.\n",
      "30 is divisible by 3.\n",
      "11 is not divisible by 3.\n",
      "22 is not divisible by 3.\n",
      "18 is divisible by 3.\n",
      "13 is not divisible by 3.\n",
      "25 is not divisible by 3.\n",
      "36 is divisible by 3.\n",
      "7 is not divisible by 3.\n",
      "15 is divisible by 3.\n",
      "6 is divisible by 3.\n",
      "20 is not divisible by 3.\n",
      "17 is not divisible by 3.\n",
      "24 is divisible by 3.\n",
      "4 is not divisible by 3.\n",
      "19 is not divisible by 3.\n",
      "14 is not divisible by 3.\n"
     ]
    }
   ],
   "source": [
    "\n",
    "my_list = [5, 12, 9, 8, 27, 16, 21, 3, 10, 30, 11, 22, 18, 13, 25, 36, 7, 15, 6, 20, 17, 24, 4, 19, 14]\n",
    "\n",
    "# Loop through the list and check for divisibility by 3\n",
    "for element in my_list:\n",
    "    if element % 3 == 0:\n",
    "        print(f\"{element} is divisible by 3.\")\n",
    "    else:\n",
    "        print(f\"{element} is not divisible by 3.\")\n"
   ]
  },
  {
   "cell_type": "code",
   "execution_count": null,
   "id": "1d5d826d-8c22-4478-8b1d-3e0c592382c3",
   "metadata": {},
   "outputs": [],
   "source": [
    "# Mutable data types - Lists\n",
    "my_list = [1, 2, 3]\n",
    "print(\"Original List:\", my_list)\n",
    "\n",
    "# Modifying the list\n",
    "my_list[1] = 5\n",
    "my_list.append(4)\n",
    "print(\"Modified List:\", my_list)  # Output: Modified List: [1, 5, 3, 4]\n",
    "# Immutable data types - Strings\n",
    "my_string = \"Hello\"\n",
    "print(\"Original String:\", my_string)\n",
    "\n",
    "# Modifying the string (creating a new string)\n",
    "my_string += \" World\"\n",
    "print(\"Modified String:\", my_string)  # Output: Modified String: Hello World\n"
   ]
  }
 ],
 "metadata": {
  "kernelspec": {
   "display_name": "Python 3 (ipykernel)",
   "language": "python",
   "name": "python3"
  },
  "language_info": {
   "codemirror_mode": {
    "name": "ipython",
    "version": 3
   },
   "file_extension": ".py",
   "mimetype": "text/x-python",
   "name": "python",
   "nbconvert_exporter": "python",
   "pygments_lexer": "ipython3",
   "version": "3.10.8"
  }
 },
 "nbformat": 4,
 "nbformat_minor": 5
}
